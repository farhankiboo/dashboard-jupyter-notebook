{
 "cells": [
  {
   "cell_type": "code",
   "execution_count": 1,
   "metadata": {},
   "outputs": [
    {
     "ename": "SyntaxError",
     "evalue": "invalid syntax (3973829775.py, line 1)",
     "output_type": "error",
     "traceback": [
      "\u001b[1;36m  Cell \u001b[1;32mIn[1], line 1\u001b[1;36m\u001b[0m\n\u001b[1;33m    ---\u001b[0m\n\u001b[1;37m       ^\u001b[0m\n\u001b[1;31mSyntaxError\u001b[0m\u001b[1;31m:\u001b[0m invalid syntax\n"
     ]
    }
   ],
   "source": [
    "---\n",
    "title: Finance dashboard\n",
    "description: Dashboard with financial data\n",
    "show-code: False\n",
    "params:\n",
    "    ticker: \n",
    "        input: select\n",
    "        value: TSLA\n",
    "        label: Select ticker\n",
    "        choices: [TSLA, COIN, MSFT, PLTR, SNOW, NFLX]\n",
    "---"
   ]
  },
  {
   "cell_type": "code",
   "execution_count": 1,
   "metadata": {},
   "outputs": [],
   "source": [
    "import yfinance as yf\n",
    "import mplfinance as mpf"
   ]
  },
  {
   "cell_type": "markdown",
   "metadata": {},
   "source": [
    "Historic Stock Price"
   ]
  },
  {
   "cell_type": "code",
   "execution_count": 2,
   "metadata": {},
   "outputs": [],
   "source": [
    "ticker = \"TSLA\""
   ]
  },
  {
   "cell_type": "code",
   "execution_count": 3,
   "metadata": {},
   "outputs": [],
   "source": [
    "history = yf.Ticker(ticker).history(period=\"3mo\")"
   ]
  },
  {
   "cell_type": "code",
   "execution_count": 4,
   "metadata": {},
   "outputs": [
    {
     "name": "stdout",
     "output_type": "stream",
     "text": [
      "3 months low: 101\n",
      "3 months high: 203\n"
     ]
    }
   ],
   "source": [
    "print(f\"3 months low: {history.Low.min().astype(int)}\")\n",
    "print(f\"3 months high: {history.High.max().astype(int)}\")"
   ]
  },
  {
   "cell_type": "code",
   "execution_count": 5,
   "metadata": {},
   "outputs": [
    {
     "data": {
      "text/html": [
       "<div>\n",
       "<style scoped>\n",
       "    .dataframe tbody tr th:only-of-type {\n",
       "        vertical-align: middle;\n",
       "    }\n",
       "\n",
       "    .dataframe tbody tr th {\n",
       "        vertical-align: top;\n",
       "    }\n",
       "\n",
       "    .dataframe thead th {\n",
       "        text-align: right;\n",
       "    }\n",
       "</style>\n",
       "<table border=\"1\" class=\"dataframe\">\n",
       "  <thead>\n",
       "    <tr style=\"text-align: right;\">\n",
       "      <th></th>\n",
       "      <th>Open</th>\n",
       "      <th>High</th>\n",
       "      <th>Low</th>\n",
       "      <th>Close</th>\n",
       "      <th>Volume</th>\n",
       "      <th>Dividends</th>\n",
       "      <th>Stock Splits</th>\n",
       "    </tr>\n",
       "    <tr>\n",
       "      <th>Date</th>\n",
       "      <th></th>\n",
       "      <th></th>\n",
       "      <th></th>\n",
       "      <th></th>\n",
       "      <th></th>\n",
       "      <th></th>\n",
       "      <th></th>\n",
       "    </tr>\n",
       "  </thead>\n",
       "  <tbody>\n",
       "    <tr>\n",
       "      <th>2023-02-02 00:00:00-05:00</th>\n",
       "      <td>187.330002</td>\n",
       "      <td>196.750000</td>\n",
       "      <td>182.610001</td>\n",
       "      <td>188.270004</td>\n",
       "      <td>217448300</td>\n",
       "      <td>0.0</td>\n",
       "      <td>0.0</td>\n",
       "    </tr>\n",
       "    <tr>\n",
       "      <th>2023-02-03 00:00:00-05:00</th>\n",
       "      <td>183.949997</td>\n",
       "      <td>199.000000</td>\n",
       "      <td>183.690002</td>\n",
       "      <td>189.979996</td>\n",
       "      <td>231684200</td>\n",
       "      <td>0.0</td>\n",
       "      <td>0.0</td>\n",
       "    </tr>\n",
       "    <tr>\n",
       "      <th>2023-02-06 00:00:00-05:00</th>\n",
       "      <td>193.009995</td>\n",
       "      <td>198.169998</td>\n",
       "      <td>189.919998</td>\n",
       "      <td>194.759995</td>\n",
       "      <td>186188100</td>\n",
       "      <td>0.0</td>\n",
       "      <td>0.0</td>\n",
       "    </tr>\n",
       "    <tr>\n",
       "      <th>2023-02-07 00:00:00-05:00</th>\n",
       "      <td>196.429993</td>\n",
       "      <td>197.500000</td>\n",
       "      <td>189.550003</td>\n",
       "      <td>196.809998</td>\n",
       "      <td>186010300</td>\n",
       "      <td>0.0</td>\n",
       "      <td>0.0</td>\n",
       "    </tr>\n",
       "    <tr>\n",
       "      <th>2023-02-08 00:00:00-05:00</th>\n",
       "      <td>196.100006</td>\n",
       "      <td>203.000000</td>\n",
       "      <td>194.309998</td>\n",
       "      <td>201.289993</td>\n",
       "      <td>180154500</td>\n",
       "      <td>0.0</td>\n",
       "      <td>0.0</td>\n",
       "    </tr>\n",
       "  </tbody>\n",
       "</table>\n",
       "</div>"
      ],
      "text/plain": [
       "                                 Open        High         Low       Close  \\\n",
       "Date                                                                        \n",
       "2023-02-02 00:00:00-05:00  187.330002  196.750000  182.610001  188.270004   \n",
       "2023-02-03 00:00:00-05:00  183.949997  199.000000  183.690002  189.979996   \n",
       "2023-02-06 00:00:00-05:00  193.009995  198.169998  189.919998  194.759995   \n",
       "2023-02-07 00:00:00-05:00  196.429993  197.500000  189.550003  196.809998   \n",
       "2023-02-08 00:00:00-05:00  196.100006  203.000000  194.309998  201.289993   \n",
       "\n",
       "                              Volume  Dividends  Stock Splits  \n",
       "Date                                                           \n",
       "2023-02-02 00:00:00-05:00  217448300        0.0           0.0  \n",
       "2023-02-03 00:00:00-05:00  231684200        0.0           0.0  \n",
       "2023-02-06 00:00:00-05:00  186188100        0.0           0.0  \n",
       "2023-02-07 00:00:00-05:00  186010300        0.0           0.0  \n",
       "2023-02-08 00:00:00-05:00  180154500        0.0           0.0  "
      ]
     },
     "execution_count": 5,
     "metadata": {},
     "output_type": "execute_result"
    }
   ],
   "source": [
    "history.tail()"
   ]
  },
  {
   "cell_type": "markdown",
   "metadata": {},
   "source": [
    "mpf.plot(history, type='candle', mav=(7),figratio=(18,10))"
   ]
  },
  {
   "cell_type": "code",
   "execution_count": null,
   "metadata": {},
   "outputs": [],
   "source": []
  }
 ],
 "metadata": {
  "kernelspec": {
   "display_name": "djenv",
   "language": "python",
   "name": "djenv"
  },
  "language_info": {
   "codemirror_mode": {
    "name": "ipython",
    "version": 3
   },
   "file_extension": ".py",
   "mimetype": "text/x-python",
   "name": "python",
   "nbconvert_exporter": "python",
   "pygments_lexer": "ipython3",
   "version": "3.9.1"
  },
  "vscode": {
   "interpreter": {
    "hash": "3ca658b719d8638edae4c7907f8ad8b62d1ffb02dda03628baba98336730f908"
   }
  }
 },
 "nbformat": 4,
 "nbformat_minor": 2
}
